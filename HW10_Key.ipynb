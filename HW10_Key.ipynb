{
 "cells": [
  {
   "cell_type": "markdown",
   "metadata": {},
   "source": [
    "# HW 10 - Key\n",
    "\n",
    "## SDS348 Spring 2021"
   ]
  },
  {
   "cell_type": "markdown",
   "metadata": {},
   "source": [
    "### Enter your name and EID here"
   ]
  },
  {
   "cell_type": "markdown",
   "metadata": {},
   "source": [
    "**This homework is due on May 3, 2021 at 8am. Submit a pdf file on Gradescope.**\n",
    "\n",
    "*For all questions, include the Python commands/functions that you used to find your answer. Answers without supporting code will not receive credit. Write full sentences to describe your findings.*"
   ]
  },
  {
   "cell_type": "code",
   "execution_count": 1,
   "metadata": {},
   "outputs": [],
   "source": [
    "# Import packages\n",
    "import pandas as pd\n",
    "import seaborn as sns"
   ]
  },
  {
   "cell_type": "markdown",
   "metadata": {},
   "source": [
    "### Question 1: (14 pts)\n",
    "\n",
    "Tips for food servers at restaurants are a major component of pay (at least in the United States) and may be influenced by many factors. At one restaurant, a food server recorded the following data `tips` on all customers they served during an interval of two and a half months in early 1990. Each record includes the total bill (in dollars), the tip (in dollars), the gender of the server, if patrons were sitting in a smoking area or not, the day and time, and the size of the party."
   ]
  },
  {
   "cell_type": "markdown",
   "metadata": {},
   "source": [
    "#### 1.1 (2 pts) The dataset `tips` is from the package `seaborn`. Run the code below to save the dataset in your environment. Take a peek at the first few rows using `.head()`. How many observations are there and how many columns? What does one row represent?"
   ]
  },
  {
   "cell_type": "code",
   "execution_count": 2,
   "metadata": {},
   "outputs": [],
   "source": [
    "# Import dataset\n",
    "tips = sns.load_dataset('tips')"
   ]
  },
  {
   "cell_type": "code",
   "execution_count": 3,
   "metadata": {},
   "outputs": [
    {
     "data": {
      "text/html": [
       "<div>\n",
       "<style scoped>\n",
       "    .dataframe tbody tr th:only-of-type {\n",
       "        vertical-align: middle;\n",
       "    }\n",
       "\n",
       "    .dataframe tbody tr th {\n",
       "        vertical-align: top;\n",
       "    }\n",
       "\n",
       "    .dataframe thead th {\n",
       "        text-align: right;\n",
       "    }\n",
       "</style>\n",
       "<table border=\"1\" class=\"dataframe\">\n",
       "  <thead>\n",
       "    <tr style=\"text-align: right;\">\n",
       "      <th></th>\n",
       "      <th>total_bill</th>\n",
       "      <th>tip</th>\n",
       "      <th>sex</th>\n",
       "      <th>smoker</th>\n",
       "      <th>day</th>\n",
       "      <th>time</th>\n",
       "      <th>size</th>\n",
       "    </tr>\n",
       "  </thead>\n",
       "  <tbody>\n",
       "    <tr>\n",
       "      <th>0</th>\n",
       "      <td>16.99</td>\n",
       "      <td>1.01</td>\n",
       "      <td>Female</td>\n",
       "      <td>No</td>\n",
       "      <td>Sun</td>\n",
       "      <td>Dinner</td>\n",
       "      <td>2</td>\n",
       "    </tr>\n",
       "    <tr>\n",
       "      <th>1</th>\n",
       "      <td>10.34</td>\n",
       "      <td>1.66</td>\n",
       "      <td>Male</td>\n",
       "      <td>No</td>\n",
       "      <td>Sun</td>\n",
       "      <td>Dinner</td>\n",
       "      <td>3</td>\n",
       "    </tr>\n",
       "    <tr>\n",
       "      <th>2</th>\n",
       "      <td>21.01</td>\n",
       "      <td>3.50</td>\n",
       "      <td>Male</td>\n",
       "      <td>No</td>\n",
       "      <td>Sun</td>\n",
       "      <td>Dinner</td>\n",
       "      <td>3</td>\n",
       "    </tr>\n",
       "    <tr>\n",
       "      <th>3</th>\n",
       "      <td>23.68</td>\n",
       "      <td>3.31</td>\n",
       "      <td>Male</td>\n",
       "      <td>No</td>\n",
       "      <td>Sun</td>\n",
       "      <td>Dinner</td>\n",
       "      <td>2</td>\n",
       "    </tr>\n",
       "    <tr>\n",
       "      <th>4</th>\n",
       "      <td>24.59</td>\n",
       "      <td>3.61</td>\n",
       "      <td>Female</td>\n",
       "      <td>No</td>\n",
       "      <td>Sun</td>\n",
       "      <td>Dinner</td>\n",
       "      <td>4</td>\n",
       "    </tr>\n",
       "  </tbody>\n",
       "</table>\n",
       "</div>"
      ],
      "text/plain": [
       "   total_bill   tip     sex smoker  day    time  size\n",
       "0       16.99  1.01  Female     No  Sun  Dinner     2\n",
       "1       10.34  1.66    Male     No  Sun  Dinner     3\n",
       "2       21.01  3.50    Male     No  Sun  Dinner     3\n",
       "3       23.68  3.31    Male     No  Sun  Dinner     2\n",
       "4       24.59  3.61  Female     No  Sun  Dinner     4"
      ]
     },
     "execution_count": 3,
     "metadata": {},
     "output_type": "execute_result"
    }
   ],
   "source": [
    "# answer\n",
    "tips.head()"
   ]
  },
  {
   "cell_type": "code",
   "execution_count": 4,
   "metadata": {},
   "outputs": [
    {
     "data": {
      "text/plain": [
       "244"
      ]
     },
     "execution_count": 4,
     "metadata": {},
     "output_type": "execute_result"
    }
   ],
   "source": [
    "len(tips)"
   ]
  },
  {
   "cell_type": "markdown",
   "metadata": {},
   "source": [
    "The dataset has 244 observations, each representing a table with associated server.   \n",
    "\n",
    "**-1pt if no code for taking a peek   \n",
    "-1pt if no sentence about observation** "
   ]
  },
  {
   "cell_type": "markdown",
   "metadata": {},
   "source": [
    "#### 1.2 (3 pts) Use the function `.describe()`. Interpret at least one statistic for each variable. You can interpret the same statistics multiple times but remember to include units."
   ]
  },
  {
   "cell_type": "code",
   "execution_count": 5,
   "metadata": {},
   "outputs": [
    {
     "data": {
      "text/html": [
       "<div>\n",
       "<style scoped>\n",
       "    .dataframe tbody tr th:only-of-type {\n",
       "        vertical-align: middle;\n",
       "    }\n",
       "\n",
       "    .dataframe tbody tr th {\n",
       "        vertical-align: top;\n",
       "    }\n",
       "\n",
       "    .dataframe thead th {\n",
       "        text-align: right;\n",
       "    }\n",
       "</style>\n",
       "<table border=\"1\" class=\"dataframe\">\n",
       "  <thead>\n",
       "    <tr style=\"text-align: right;\">\n",
       "      <th></th>\n",
       "      <th>total_bill</th>\n",
       "      <th>tip</th>\n",
       "      <th>size</th>\n",
       "    </tr>\n",
       "  </thead>\n",
       "  <tbody>\n",
       "    <tr>\n",
       "      <th>count</th>\n",
       "      <td>244.000000</td>\n",
       "      <td>244.000000</td>\n",
       "      <td>244.000000</td>\n",
       "    </tr>\n",
       "    <tr>\n",
       "      <th>mean</th>\n",
       "      <td>19.785943</td>\n",
       "      <td>2.998279</td>\n",
       "      <td>2.569672</td>\n",
       "    </tr>\n",
       "    <tr>\n",
       "      <th>std</th>\n",
       "      <td>8.902412</td>\n",
       "      <td>1.383638</td>\n",
       "      <td>0.951100</td>\n",
       "    </tr>\n",
       "    <tr>\n",
       "      <th>min</th>\n",
       "      <td>3.070000</td>\n",
       "      <td>1.000000</td>\n",
       "      <td>1.000000</td>\n",
       "    </tr>\n",
       "    <tr>\n",
       "      <th>25%</th>\n",
       "      <td>13.347500</td>\n",
       "      <td>2.000000</td>\n",
       "      <td>2.000000</td>\n",
       "    </tr>\n",
       "    <tr>\n",
       "      <th>50%</th>\n",
       "      <td>17.795000</td>\n",
       "      <td>2.900000</td>\n",
       "      <td>2.000000</td>\n",
       "    </tr>\n",
       "    <tr>\n",
       "      <th>75%</th>\n",
       "      <td>24.127500</td>\n",
       "      <td>3.562500</td>\n",
       "      <td>3.000000</td>\n",
       "    </tr>\n",
       "    <tr>\n",
       "      <th>max</th>\n",
       "      <td>50.810000</td>\n",
       "      <td>10.000000</td>\n",
       "      <td>6.000000</td>\n",
       "    </tr>\n",
       "  </tbody>\n",
       "</table>\n",
       "</div>"
      ],
      "text/plain": [
       "       total_bill         tip        size\n",
       "count  244.000000  244.000000  244.000000\n",
       "mean    19.785943    2.998279    2.569672\n",
       "std      8.902412    1.383638    0.951100\n",
       "min      3.070000    1.000000    1.000000\n",
       "25%     13.347500    2.000000    2.000000\n",
       "50%     17.795000    2.900000    2.000000\n",
       "75%     24.127500    3.562500    3.000000\n",
       "max     50.810000   10.000000    6.000000"
      ]
     },
     "execution_count": 5,
     "metadata": {},
     "output_type": "execute_result"
    }
   ],
   "source": [
    "# answer\n",
    "tips.describe()"
   ]
  },
  {
   "cell_type": "markdown",
   "metadata": {},
   "source": [
    "Answers will vary but for example: The mean total bill was about $19.79 with a mean tip of $3.00. The size of the party varied between 1 and 6 patrons.   \n",
    "\n",
    "**-0.5pt if code is missing    \n",
    "-0.5pt per statistic described** "
   ]
  },
  {
   "cell_type": "markdown",
   "metadata": {},
   "source": [
    "#### 1.3 (3 pts) Which variables do not appear in the summary table created in 1.2? Describe the missing variables. (*Hint: what type of variables were dropped and what basic statistic do we usually use to describe such type of variables?*)"
   ]
  },
  {
   "cell_type": "code",
   "execution_count": 6,
   "metadata": {},
   "outputs": [
    {
     "data": {
      "text/plain": [
       "Male      157\n",
       "Female     87\n",
       "Name: sex, dtype: int64"
      ]
     },
     "execution_count": 6,
     "metadata": {},
     "output_type": "execute_result"
    }
   ],
   "source": [
    "# answer\n",
    "tips['sex'].value_counts()"
   ]
  },
  {
   "cell_type": "code",
   "execution_count": 7,
   "metadata": {},
   "outputs": [
    {
     "data": {
      "text/plain": [
       "No     151\n",
       "Yes     93\n",
       "Name: smoker, dtype: int64"
      ]
     },
     "execution_count": 7,
     "metadata": {},
     "output_type": "execute_result"
    }
   ],
   "source": [
    "tips['smoker'].value_counts()"
   ]
  },
  {
   "cell_type": "code",
   "execution_count": 8,
   "metadata": {},
   "outputs": [
    {
     "data": {
      "text/plain": [
       "Sat     87\n",
       "Sun     76\n",
       "Thur    62\n",
       "Fri     19\n",
       "Name: day, dtype: int64"
      ]
     },
     "execution_count": 8,
     "metadata": {},
     "output_type": "execute_result"
    }
   ],
   "source": [
    "tips['day'].value_counts()"
   ]
  },
  {
   "cell_type": "code",
   "execution_count": 9,
   "metadata": {},
   "outputs": [
    {
     "data": {
      "text/plain": [
       "Dinner    176\n",
       "Lunch      68\n",
       "Name: time, dtype: int64"
      ]
     },
     "execution_count": 9,
     "metadata": {},
     "output_type": "execute_result"
    }
   ],
   "source": [
    "tips['time'].value_counts()"
   ]
  },
  {
   "cell_type": "markdown",
   "metadata": {},
   "source": [
    "Categorical variables did not appear in the summary table. Counts or proportions are used to describe categorical variables. They were mainly male servers in the dataset, mostly working in nonsmoking area, data was collected mostly on weekends and at dinner time.     \n",
    "\n",
    "**-1pt if not identifying categorical variables were missing    \n",
    "-0.5pt per code for each categorical variable  \n",
    "-1pt if no sentence to describe** "
   ]
  },
  {
   "cell_type": "markdown",
   "metadata": {},
   "source": [
    "#### 1.4 (2 pts) Calculate the tip percentage (amount of tip compared to total bill) using `pandas` functions. Add this percentage as a variable in the data `tips`. Using `pandas` functions similar to `dplyr` functions in `R`, compute the mean and standard deviation and report counts of tip percentage per gender. Does the mean tip percentage seem to differ across gender? What test should we conduct to check for significance?"
   ]
  },
  {
   "cell_type": "code",
   "execution_count": 10,
   "metadata": {},
   "outputs": [],
   "source": [
    "# answer\n",
    "tips = tips.assign(percent_tip = tips['tip'] / tips['total_bill'])"
   ]
  },
  {
   "cell_type": "code",
   "execution_count": 11,
   "metadata": {},
   "outputs": [
    {
     "data": {
      "text/html": [
       "<div>\n",
       "<style scoped>\n",
       "    .dataframe tbody tr th:only-of-type {\n",
       "        vertical-align: middle;\n",
       "    }\n",
       "\n",
       "    .dataframe tbody tr th {\n",
       "        vertical-align: top;\n",
       "    }\n",
       "\n",
       "    .dataframe thead tr th {\n",
       "        text-align: left;\n",
       "    }\n",
       "\n",
       "    .dataframe thead tr:last-of-type th {\n",
       "        text-align: right;\n",
       "    }\n",
       "</style>\n",
       "<table border=\"1\" class=\"dataframe\">\n",
       "  <thead>\n",
       "    <tr>\n",
       "      <th></th>\n",
       "      <th colspan=\"3\" halign=\"left\">total_bill</th>\n",
       "      <th colspan=\"3\" halign=\"left\">tip</th>\n",
       "      <th colspan=\"3\" halign=\"left\">size</th>\n",
       "      <th colspan=\"3\" halign=\"left\">percent_tip</th>\n",
       "    </tr>\n",
       "    <tr>\n",
       "      <th></th>\n",
       "      <th>mean</th>\n",
       "      <th>std</th>\n",
       "      <th>size</th>\n",
       "      <th>mean</th>\n",
       "      <th>std</th>\n",
       "      <th>size</th>\n",
       "      <th>mean</th>\n",
       "      <th>std</th>\n",
       "      <th>size</th>\n",
       "      <th>mean</th>\n",
       "      <th>std</th>\n",
       "      <th>size</th>\n",
       "    </tr>\n",
       "    <tr>\n",
       "      <th>sex</th>\n",
       "      <th></th>\n",
       "      <th></th>\n",
       "      <th></th>\n",
       "      <th></th>\n",
       "      <th></th>\n",
       "      <th></th>\n",
       "      <th></th>\n",
       "      <th></th>\n",
       "      <th></th>\n",
       "      <th></th>\n",
       "      <th></th>\n",
       "      <th></th>\n",
       "    </tr>\n",
       "  </thead>\n",
       "  <tbody>\n",
       "    <tr>\n",
       "      <th>Male</th>\n",
       "      <td>20.744076</td>\n",
       "      <td>9.246469</td>\n",
       "      <td>157</td>\n",
       "      <td>3.089618</td>\n",
       "      <td>1.489102</td>\n",
       "      <td>157</td>\n",
       "      <td>2.630573</td>\n",
       "      <td>0.955997</td>\n",
       "      <td>157</td>\n",
       "      <td>0.157651</td>\n",
       "      <td>0.064778</td>\n",
       "      <td>157</td>\n",
       "    </tr>\n",
       "    <tr>\n",
       "      <th>Female</th>\n",
       "      <td>18.056897</td>\n",
       "      <td>8.009209</td>\n",
       "      <td>87</td>\n",
       "      <td>2.833448</td>\n",
       "      <td>1.159495</td>\n",
       "      <td>87</td>\n",
       "      <td>2.459770</td>\n",
       "      <td>0.937644</td>\n",
       "      <td>87</td>\n",
       "      <td>0.166491</td>\n",
       "      <td>0.053632</td>\n",
       "      <td>87</td>\n",
       "    </tr>\n",
       "  </tbody>\n",
       "</table>\n",
       "</div>"
      ],
      "text/plain": [
       "       total_bill                      tip                     size            \\\n",
       "             mean       std size      mean       std size      mean       std   \n",
       "sex                                                                             \n",
       "Male    20.744076  9.246469  157  3.089618  1.489102  157  2.630573  0.955997   \n",
       "Female  18.056897  8.009209   87  2.833448  1.159495   87  2.459770  0.937644   \n",
       "\n",
       "            percent_tip                 \n",
       "       size        mean       std size  \n",
       "sex                                     \n",
       "Male    157    0.157651  0.064778  157  \n",
       "Female   87    0.166491  0.053632   87  "
      ]
     },
     "execution_count": 11,
     "metadata": {},
     "output_type": "execute_result"
    }
   ],
   "source": [
    "(tips.groupby(['sex'])\n",
    " .agg(['mean', 'std', 'size']))"
   ]
  },
  {
   "cell_type": "markdown",
   "metadata": {},
   "source": [
    "The mean tip percentage for females is about 16.6% while it is about 15.8% for males. Does not seem that different but we should perform an independent t-test to check if the difference is significant.   \n",
    "\n",
    "**-1pt if no code/incorrect for tip percentage  \n",
    "-0.5pt if no code/incorrect for mean, sd, count  \n",
    "-0.5pt if no sentence about the difference in means\n",
    "-1pt if no type of test: independent t-test** "
   ]
  },
  {
   "cell_type": "markdown",
   "metadata": {},
   "source": [
    "#### 1.5 (4 pts) Conduct the appropriate test discussed in the previous question: state the hypotheses, check the assumptions, write a conclusion."
   ]
  },
  {
   "cell_type": "code",
   "execution_count": 12,
   "metadata": {},
   "outputs": [
    {
     "data": {
      "text/plain": [
       "<matplotlib.axes._subplots.AxesSubplot at 0x7f0dc0ac9908>"
      ]
     },
     "execution_count": 12,
     "metadata": {},
     "output_type": "execute_result"
    },
    {
     "data": {
      "image/png": "[encoded data removed]",
      "text/plain": [
       "<Figure size 432x288 with 1 Axes>"
      ]
     },
     "metadata": {
      "needs_background": "light"
     },
     "output_type": "display_data"
    }
   ],
   "source": [
    "sns.violinplot(data = tips, x = \"percent_tip\", y = \"sex\")"
   ]
  },
  {
   "cell_type": "code",
   "execution_count": 13,
   "metadata": {},
   "outputs": [
    {
     "data": {
      "text/plain": [
       "Ttest_indResult(statistic=-1.0833972270477996, pvalue=0.2797103849605489)"
      ]
     },
     "execution_count": 13,
     "metadata": {},
     "output_type": "execute_result"
    }
   ],
   "source": [
    "# answer\n",
    "import scipy.stats as stats\n",
    "stats.ttest_ind(tips['percent_tip'][tips['sex'] == 'Male'],\n",
    "                tips['percent_tip'][tips['sex'] == 'Female'])"
   ]
  },
  {
   "cell_type": "markdown",
   "metadata": {},
   "source": [
    "Distributions look approx. normal except for a few outliers, equal variance assumption is met.   \n",
    "Null hypothesis: the mean tip percentage is the same for males and females.  \n",
    "Alternative hypothesis: the mean tip percentage is not the same for males and females.  \n",
    "The p-value is greater than 0.05, there is no evidence that the means are different. \n",
    "\n",
    "**-1pt if not checking normality assumption  \n",
    "-1pt if not checking equal variance assumption  \n",
    "-1pt if no hypotheses (-0.5pt for each)  \n",
    "-1pt if no conclusion (-0.5pt if not in context)** "
   ]
  },
  {
   "cell_type": "markdown",
   "metadata": {},
   "source": [
    "### Question 2: (11 pts)\n",
    "\n",
    "In bioinformatics, k-mers refer to all the possible subsequences (of length k) from a read obtained through DNA sequencing. For example, if the DNA sequencing read is \"ATCATCATG\", then the 3-mers in that read include \"ATC\" (which occurs twice), \"TCA\" (which occurs twice), \"CAT\" (occurs twice), and \"ATG\" (occurs once). You can read more about k-mers on [Wikipedia](https://en.wikipedia.org/wiki/K-mer)."
   ]
  },
  {
   "cell_type": "markdown",
   "metadata": {},
   "source": [
    "#### 2.1 (2 pts) Manually find the 4-mers if the DNA sequencing read is \"ATCATCATG\" and the number of occurences. "
   ]
  },
  {
   "cell_type": "markdown",
   "metadata": {},
   "source": [
    "The different 4-mers are \"ATCA\" (which occurs twice), \"TCAT\" (which occurs twice), \"CATC\" (which occurs once), \"CATG\" (which occurs 1).  \n",
    "\n",
    "**-0.5pt per 4-mers with their occurences**"
   ]
  },
  {
   "cell_type": "markdown",
   "metadata": {},
   "source": [
    "#### 2.2 (4 pts) Write this sequence in Python as a string and call it `my_seq1`. Write code to select each of the 4-mers found in the previous question (*Hint: use indexing with `[` `:` `]`*). What is the difference between the lowest and highest index? What is the highest index you will start with? How does it relate to the length of the string?"
   ]
  },
  {
   "cell_type": "code",
   "execution_count": 14,
   "metadata": {},
   "outputs": [],
   "source": [
    "# answer\n",
    "my_seq1 = \"ATCATCATG\""
   ]
  },
  {
   "cell_type": "code",
   "execution_count": 15,
   "metadata": {},
   "outputs": [
    {
     "data": {
      "text/plain": [
       "'ATCA'"
      ]
     },
     "execution_count": 15,
     "metadata": {},
     "output_type": "execute_result"
    }
   ],
   "source": [
    "my_seq1[0:4]"
   ]
  },
  {
   "cell_type": "code",
   "execution_count": 16,
   "metadata": {},
   "outputs": [
    {
     "data": {
      "text/plain": [
       "'TCAT'"
      ]
     },
     "execution_count": 16,
     "metadata": {},
     "output_type": "execute_result"
    }
   ],
   "source": [
    "my_seq1[1:5]"
   ]
  },
  {
   "cell_type": "code",
   "execution_count": 17,
   "metadata": {},
   "outputs": [
    {
     "data": {
      "text/plain": [
       "'CATC'"
      ]
     },
     "execution_count": 17,
     "metadata": {},
     "output_type": "execute_result"
    }
   ],
   "source": [
    "my_seq1[2:6]"
   ]
  },
  {
   "cell_type": "code",
   "execution_count": 18,
   "metadata": {},
   "outputs": [
    {
     "data": {
      "text/plain": [
       "'CATG'"
      ]
     },
     "execution_count": 18,
     "metadata": {},
     "output_type": "execute_result"
    }
   ],
   "source": [
    "my_seq1[5:9]"
   ]
  },
  {
   "cell_type": "code",
   "execution_count": 19,
   "metadata": {},
   "outputs": [
    {
     "data": {
      "text/plain": [
       "9"
      ]
     },
     "execution_count": 19,
     "metadata": {},
     "output_type": "execute_result"
    }
   ],
   "source": [
    "len(my_seq1)"
   ]
  },
  {
   "cell_type": "markdown",
   "metadata": {},
   "source": [
    "The difference between the two indexes is 4 (the length of the k-mer). The highest index to start with is 5 so that there are 4 letters left (9 - 4 = 5) since the length of the string is 9.  \n",
    "\n",
    "**-1pt if no code/incorrect for the string  \n",
    "-0.5pt per indexing to find the k-mers  \n",
    "-1pt to make the connection with the length** "
   ]
  },
  {
   "cell_type": "markdown",
   "metadata": {},
   "source": [
    "#### 2.3 (4 pts) We will create a function that takes a DNA sequence as input and returns a dictionary with all 4-mers present in that string, and the number of occurences for each k-mer. \n",
    "\n",
    "The output of the function should be a dictionary that is structured like this:\n",
    "\n",
    "{\"CAG\": 2, \"AGC\": 1, \"GCC\": 3}\n",
    "\n",
    "where each key is a k-mer itself (e.g., \"ATC\") and each value is the number of times that k-mer occurs.\n",
    "\n",
    "##### a. Define a function called `find_kmer` and taking inputs `(seq,k)`. \n",
    "##### b. Create an empty dictionary called `out_dict`. \n",
    "##### c. Start a loop. Define the range so that the last value is the last possible index for a k-mer (hint: think about your answer in question 2.2 in relation to the length of the string).\n",
    "##### d. Check `if` that k-mer already appeared in the dictionary: if yes add 1 to the dictionary value, `else` set the dictionary value of that k-mer to be 1 (hint: this is similar to the loop we created to count how many times a letter appears in a string in WS21).\n",
    "##### e. Return the dictionary `out_dict`.\n",
    "\n",
    "#### Test the function to find the 4-mers in the DNA sequence `my_seq1`. Does it match what you found in the question 2.1?"
   ]
  },
  {
   "cell_type": "code",
   "execution_count": 20,
   "metadata": {},
   "outputs": [],
   "source": [
    "# answer \n",
    "def find_kmer(seq,k):\n",
    "    # create an empty dictionary to hold 3-mers\n",
    "    out_dict = {}\n",
    "    # loop over every position in the sequence except for the last 2\n",
    "    for i in range(len(seq) - k + 1):\n",
    "        # check if 3-mer is already in the output dictionary\n",
    "        if seq[i:i+k] in out_dict:\n",
    "            out_dict[seq[i:i+k]] += 1\n",
    "        else:\n",
    "            out_dict[seq[i:i+k]] = 1\n",
    "    return out_dict"
   ]
  },
  {
   "cell_type": "code",
   "execution_count": 21,
   "metadata": {},
   "outputs": [
    {
     "data": {
      "text/plain": [
       "{'ATCA': 2, 'TCAT': 2, 'CATC': 1, 'CATG': 1}"
      ]
     },
     "execution_count": 21,
     "metadata": {},
     "output_type": "execute_result"
    }
   ],
   "source": [
    "find_kmer(my_seq1,4)"
   ]
  },
  {
   "cell_type": "markdown",
   "metadata": {},
   "source": [
    "It should match!  \n",
    "\n",
    "**-1pt if not defining function    \n",
    "-1pt if not correct range in loop    \n",
    "-1pt if not correct indexing of k-mer\n",
    "-1pt if no comparison with 2.1** "
   ]
  },
  {
   "cell_type": "markdown",
   "metadata": {},
   "source": [
    "#### 2.4 (1 pt) Using the function from the previous question, what are the two most common 3-mers of the string coded below?"
   ]
  },
  {
   "cell_type": "code",
   "execution_count": 22,
   "metadata": {},
   "outputs": [],
   "source": [
    "my_seq2 = \"CAGCCCAATCAGGCTCTACTGCCACTAAACTTACGCAGGATATATTTACGCCGACGTACT\""
   ]
  },
  {
   "cell_type": "code",
   "execution_count": 23,
   "metadata": {},
   "outputs": [
    {
     "data": {
      "text/plain": [
       "{'CAG': 3,\n",
       " 'AGC': 1,\n",
       " 'GCC': 3,\n",
       " 'CCC': 1,\n",
       " 'CCA': 2,\n",
       " 'CAA': 1,\n",
       " 'AAT': 1,\n",
       " 'ATC': 1,\n",
       " 'TCA': 1,\n",
       " 'AGG': 2,\n",
       " 'GGC': 1,\n",
       " 'GCT': 1,\n",
       " 'CTC': 1,\n",
       " 'TCT': 1,\n",
       " 'CTA': 2,\n",
       " 'TAC': 4,\n",
       " 'ACT': 4,\n",
       " 'CTG': 1,\n",
       " 'TGC': 1,\n",
       " 'CAC': 1,\n",
       " 'TAA': 1,\n",
       " 'AAA': 1,\n",
       " 'AAC': 1,\n",
       " 'CTT': 1,\n",
       " 'TTA': 2,\n",
       " 'ACG': 3,\n",
       " 'CGC': 2,\n",
       " 'GCA': 1,\n",
       " 'GGA': 1,\n",
       " 'GAT': 1,\n",
       " 'ATA': 2,\n",
       " 'TAT': 2,\n",
       " 'ATT': 1,\n",
       " 'TTT': 1,\n",
       " 'CCG': 1,\n",
       " 'CGA': 1,\n",
       " 'GAC': 1,\n",
       " 'CGT': 1,\n",
       " 'GTA': 1}"
      ]
     },
     "execution_count": 23,
     "metadata": {},
     "output_type": "execute_result"
    }
   ],
   "source": [
    "# answer\n",
    "find_kmer(my_seq2,3)"
   ]
  },
  {
   "cell_type": "markdown",
   "metadata": {},
   "source": [
    "TAC and ACT are the most common 3-mers (occurred 4 times each).  \n",
    "**-0.5pt if no code/incorrect for finding 3-mers    \n",
    "-0.5pt if no sentence** "
   ]
  }
 ],
 "metadata": {
  "kernelspec": {
   "display_name": "Python 3",
   "language": "python",
   "name": "python3"
  },
  "language_info": {
   "codemirror_mode": {
    "name": "ipython",
    "version": 3
   },
   "file_extension": ".py",
   "mimetype": "text/x-python",
   "name": "python",
   "nbconvert_exporter": "python",
   "pygments_lexer": "ipython3",
   "version": "3.6.9"
  }
 },
 "nbformat": 4,
 "nbformat_minor": 4
}
